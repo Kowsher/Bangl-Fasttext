{
  "nbformat": 4,
  "nbformat_minor": 0,
  "metadata": {
    "colab": {
      "provenance": []
    },
    "kernelspec": {
      "name": "python3",
      "display_name": "Python 3"
    },
    "language_info": {
      "name": "python"
    }
  },
  "cells": [
    {
      "cell_type": "code",
      "execution_count": null,
      "metadata": {
        "id": "l7m5_wBdA7Dt"
      },
      "outputs": [],
      "source": [
        "!pip install gdown\n",
        "!pip install BanglaFastText==2.3"
      ]
    },
    {
      "cell_type": "code",
      "source": [
        "import gdown\n",
        "cbow = 'https://drive.google.com/uc?id=1-70NYwor65WC695AJYjh9QJQfcd0Eh2c'\n",
        "skipgram = 'https://drive.google.com/uc?id=1ENn6e9wvVNgrVufflmQvascLgPVQFEfp'"
      ],
      "metadata": {
        "id": "NmVySO_VBmwB"
      },
      "execution_count": null,
      "outputs": []
    },
    {
      "cell_type": "code",
      "source": [
        "import gdown\n",
        "#change file name based on the url. either Bangla_FastText_cbow.pickle or Bangla_FastText_skipgram.pickle\n",
        "output = 'Bangla_FastText_cbow.pickle' #@param [\"Bangla_FastText_skipgram.pickle\", \"Bangla_FastText_cbow.pickle\"]\n",
        "gdown.download(skipgram, output, quiet=False) #cbow or skipgram "
      ],
      "metadata": {
        "id": "vljnEj6bB131"
      },
      "execution_count": null,
      "outputs": []
    },
    {
      "cell_type": "code",
      "source": [
        "import BanglaFastText\n",
        "#there are two variation of training methods cbow and skipgram. \n",
        "# Skipgram model :\n",
        "Bn = BanglaFastText.BanglaFasttext(model_path = '/content/Bangla_FastText_skipgram.pickle')\n",
        "# 'path' is the directory to save the downloaded model\n",
        "model = Bn.model_load()\n"
      ],
      "metadata": {
        "id": "-Os3GugTD2jx"
      },
      "execution_count": null,
      "outputs": []
    },
    {
      "cell_type": "code",
      "source": [
        "Bn.word_similarity('কিতাব', 'বই')"
      ],
      "metadata": {
        "id": "K5K3CGewD-t1"
      },
      "execution_count": null,
      "outputs": []
    }
  ]
}